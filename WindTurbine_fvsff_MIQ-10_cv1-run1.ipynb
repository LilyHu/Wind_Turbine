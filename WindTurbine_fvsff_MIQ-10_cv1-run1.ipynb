{
 "cells": [
  {
   "cell_type": "code",
   "execution_count": 1,
   "metadata": {
    "collapsed": true
   },
   "outputs": [],
   "source": [
    "import pandas as pd\n",
    "import numpy as np\n",
    "import matplotlib.pyplot as plt\n",
    "% matplotlib inline\n",
    "import os\n",
    "\n",
    "from sklearn import cross_validation as cval\n",
    "#from sklearn import utils\n",
    "from sklearn.grid_search import GridSearchCV, RandomizedSearchCV\n",
    "from sklearn.metrics import classification_report, confusion_matrix\n",
    "from sklearn.svm import SVC\n",
    "import pickle"
   ]
  },
  {
   "cell_type": "code",
   "execution_count": 2,
   "metadata": {
    "collapsed": true
   },
   "outputs": [],
   "source": [
    "# Manipulated Variables\n",
    "num_features = 10\n",
    "selection_method = 'MIQ'\n",
    "CV_test_number = 1\n",
    "run_num = 1\n",
    "output_filename = 'WindTurbine_fvsff_MIQ-' + str(num_features) + '_cv' + str(CV_test_number) + '-run' + str(run_num)"
   ]
  },
  {
   "cell_type": "code",
   "execution_count": 3,
   "metadata": {
    "collapsed": false
   },
   "outputs": [],
   "source": [
    "# Import training data\n",
    "train_filename = '../Data/PickleFiles/3_labels_cv/training_data_cv' + str(CV_test_number) + '.p'\n",
    "x_train = pd.read_pickle(train_filename)\n",
    "\n",
    "train_filename = '../Data//PickleFiles/3_labels_cv/training_data_cv' + str(CV_test_number) + 'labelweights.p'\n",
    "labelsweights = pd.read_pickle(train_filename)\n",
    "x_train['__weight__'] = labelsweights['__weight__']\n",
    "x_train['__label__'] = labelsweights['__label__']\n",
    "\n",
    "# Shuffle the data\n",
    "x_train = x_train.sample(frac=1, random_state=324351369)\n",
    "\n",
    "# Remove out the labels, weights, and x_train data\n",
    "y_train = x_train['__label__'].copy()\n",
    "x_train_sample_weights = x_train['__weight__'].copy()\n",
    "x_train.drop(['__label__', '__weight__'], 1, inplace=True)\n",
    "\n",
    "# Import testing data\n",
    "test_filename = '../Data/PickleFiles/3_labels_cv/testing_data_cv' + str(CV_test_number) +  '.p'\n",
    "x_test = pd.read_pickle(test_filename)\n",
    "\n",
    "test_filename = '../Data/PickleFiles/3_labels_cv/testing_data_cv' + str(CV_test_number) + 'labelweights.p'\n",
    "labelsweights = pd.read_pickle(test_filename)\n",
    "y_test = labelsweights['__label__'].copy()\n",
    "\n",
    "del labelsweights\n",
    "\n",
    "# Import the feature rankings\n",
    "feature_filepath = '../Code-WindTurbine2/windturbine_fvsff_' + 'MIQ-first100.txt'\n",
    "features = pd.read_csv(feature_filepath,  delimiter=' \t ', header=2, engine='python')['Name']"
   ]
  },
  {
   "cell_type": "code",
   "execution_count": 4,
   "metadata": {
    "collapsed": false
   },
   "outputs": [
    {
     "name": "stdout",
     "output_type": "stream",
     "text": [
      "train_filename is: \n",
      "../Data//PickleFiles/3_labels_cv/training_data_cv1labelweights.p\n",
      "\n",
      "test_filename is: \n",
      "../Data/PickleFiles/3_labels_cv/testing_data_cv1labelweights.p\n",
      "\n",
      "output_filename is: \n",
      "WindTurbine_fvsff_MIQ-10_cv1-run1\n",
      "\n"
     ]
    }
   ],
   "source": [
    "print(\"train_filename is: \\n%s\\n\" % train_filename)\n",
    "print(\"test_filename is: \\n%s\\n\" % test_filename)\n",
    "print(\"output_filename is: \\n%s\\n\" % output_filename)"
   ]
  },
  {
   "cell_type": "code",
   "execution_count": 7,
   "metadata": {
    "collapsed": false
   },
   "outputs": [],
   "source": [
    "def CVTrainAndScore(X_train, y_train, X_test, y_test, weights, output_filename, search_type=RandomizedSearchCV,\n",
    "    tuned_parameters={\n",
    "        'kernel': ['linear', 'poly', 'rbf', 'sigmoid'], 'gamma': ['auto', 1e-3, 1e-4],\n",
    "        'C': [0.01, .1, 1, 10,  100, 1000]},\n",
    "        #'class_weight':['balanced'],\n",
    "        scores=['f1']):\n",
    "    \n",
    "    for score in scores:\n",
    "        print(\"# Tuning hyper-parameters for %s \\n\" % score)\n",
    "\n",
    "        # Find the hyperparameters\n",
    "        clf = search_type(SVC(), tuned_parameters, fit_params={\"sample_weight\":weights}, cv=10, scoring='%s_weighted' % score, verbose=200)\n",
    "        \n",
    "        # Train the SVM\n",
    "        clf.fit(X_train, y_train)\n",
    "\n",
    "        print(\"\\nBest parameters set found on development set: \\n\")\n",
    "        print(clf.best_params_)\n",
    "\n",
    "        print(\"\\nGrid scores on development set:\\n\")\n",
    "        for params, mean_score, scores in clf.grid_scores_:\n",
    "            print(\"%0.3f (+/-%0.03f) for %r\"\n",
    "                  % (mean_score, scores.std() * 2, params))\n",
    "\n",
    "        print(\"\\nDetailed classification report:\\n\")\n",
    "\n",
    "\n",
    "        # Make the predictions on training set\n",
    "        y_true, y_pred = y_train, clf.predict(X_train)\n",
    "        print('Report on Training Set')\n",
    "        print(classification_report(y_true, y_pred))\n",
    "        print()\n",
    "        # Evaluate the SVM using Confusion Matrix\n",
    "        cm = confusion_matrix(y_true, y_pred)\n",
    "        print(cm)\n",
    "        cm_normalized = cm.astype('float') / cm.sum(axis=1)[:, np.newaxis]\n",
    "        # Also print specificity metric\n",
    "        print(\"Specificity:\", cm[0, 0] / (cm[0, 1] + cm[0, 0]))\n",
    "\n",
    "        # Make the predictions on the test set\n",
    "        y_true, y_pred = y_test, clf.predict(X_test)\n",
    "        print('Report on Test Set\\n')\n",
    "        print(classification_report(y_true, y_pred))\n",
    "        print()\n",
    "        # Evaluate the SVM using Confusion Matrix\n",
    "        cm = confusion_matrix(y_true, y_pred)\n",
    "        print(cm)\n",
    "        cm_normalized = cm.astype('float') / cm.sum(axis=1)[:, np.newaxis]\n",
    "        # Also print specificity metric\n",
    "        print(\"Specificity:\", cm[0, 0] / (cm[0, 1] + cm[0, 0]))\n",
    "        \n",
    "        # plot the confusion matrices\n",
    "        plot = plot_confusion_matrix(cm_normalized)\n",
    "        \n",
    "        print(clf.best_params_)\n",
    "        f=open(output_filename+score+'.p', 'wb')\n",
    "        pickle.dump(clf, f)\n",
    "        f.close()\n",
    "        \n",
    "        \n",
    "def plot_confusion_matrix(cm):\n",
    "    title='Confusion matrix',\n",
    "    cmap=plt.cm.Blues\n",
    "    labels=['No-Fault', 'Fault']\n",
    "    \n",
    "    plot = plt.imshow(cm, interpolation='nearest', cmap=cmap)\n",
    "    plt.title(title)\n",
    "    plt.colorbar()\n",
    "    tick_marks = np.arange(len(labels))\n",
    "    plt.xticks(tick_marks, labels, rotation=45)\n",
    "    plt.yticks(tick_marks, labels)\n",
    "    # plt.tight_layout()\n",
    "    plt.ylabel('True label')\n",
    "    plt.xlabel('Predicted label')\n",
    "    plt.show()"
   ]
  },
  {
   "cell_type": "code",
   "execution_count": 8,
   "metadata": {
    "collapsed": false
   },
   "outputs": [
    {
     "name": "stdout",
     "output_type": "stream",
     "text": [
      "# Tuning hyper-parameters for f1 \n",
      "\n",
      "Fitting 10 folds for each of 10 candidates, totalling 100 fits\n",
      "[CV] gamma=auto, kernel=rbf, C=10 ....................................\n",
      "[CV] ........... gamma=auto, kernel=rbf, C=10, score=0.996327 -   0.0s\n",
      "[Parallel(n_jobs=1)]: Done   1 tasks       | elapsed:    0.0s\n",
      "[CV] gamma=auto, kernel=rbf, C=10 ....................................\n",
      "[CV] ........... gamma=auto, kernel=rbf, C=10, score=0.997961 -   0.0s\n",
      "[Parallel(n_jobs=1)]: Done   2 tasks       | elapsed:    0.1s\n",
      "[CV] gamma=auto, kernel=rbf, C=10 ....................................\n",
      "[CV] ........... gamma=auto, kernel=rbf, C=10, score=0.994839 -   0.0s\n",
      "[Parallel(n_jobs=1)]: Done   3 tasks       | elapsed:    0.1s\n",
      "[CV] gamma=auto, kernel=rbf, C=10 ....................................\n",
      "[CV] ........... gamma=auto, kernel=rbf, C=10, score=0.997956 -   0.0s\n",
      "[Parallel(n_jobs=1)]: Done   4 tasks       | elapsed:    0.2s\n",
      "[CV] gamma=auto, kernel=rbf, C=10 ....................................\n"
     ]
    },
    {
     "name": "stderr",
     "output_type": "stream",
     "text": [
      "/home/lhu/.local/lib/python3.5/site-packages/sklearn/cross_validation.py:516: Warning: The least populated class in y has only 6 members, which is too few. The minimum number of labels for any class cannot be less than n_folds=10.\n",
      "  % (min_labels, self.n_folds)), Warning)\n"
     ]
    },
    {
     "name": "stdout",
     "output_type": "stream",
     "text": [
      "[CV] ........... gamma=auto, kernel=rbf, C=10, score=0.997956 -   0.0s\n",
      "[Parallel(n_jobs=1)]: Done   5 tasks       | elapsed:    0.2s\n",
      "[CV] gamma=auto, kernel=rbf, C=10 ....................................\n",
      "[CV] ........... gamma=auto, kernel=rbf, C=10, score=1.000000 -   0.0s\n",
      "[Parallel(n_jobs=1)]: Done   6 tasks       | elapsed:    0.2s\n",
      "[CV] gamma=auto, kernel=rbf, C=10 ....................................\n",
      "[CV] ........... gamma=auto, kernel=rbf, C=10, score=0.996301 -   0.0s\n",
      "[Parallel(n_jobs=1)]: Done   7 tasks       | elapsed:    0.3s\n",
      "[CV] gamma=auto, kernel=rbf, C=10 ....................................\n",
      "[CV] ........... gamma=auto, kernel=rbf, C=10, score=0.996301 -   0.0s\n",
      "[Parallel(n_jobs=1)]: Done   8 tasks       | elapsed:    0.3s\n",
      "[CV] gamma=auto, kernel=rbf, C=10 ....................................\n",
      "[CV] ........... gamma=auto, kernel=rbf, C=10, score=1.000000 -   0.0s\n",
      "[Parallel(n_jobs=1)]: Done   9 tasks       | elapsed:    0.4s\n",
      "[CV] gamma=auto, kernel=rbf, C=10 ....................................\n",
      "[CV] ........... gamma=auto, kernel=rbf, C=10, score=0.993820 -   0.0s\n",
      "[Parallel(n_jobs=1)]: Done  10 tasks       | elapsed:    0.4s\n",
      "[CV] gamma=auto, kernel=sigmoid, C=1 .................................\n"
     ]
    },
    {
     "name": "stderr",
     "output_type": "stream",
     "text": [
      "/home/lhu/.local/lib/python3.5/site-packages/sklearn/metrics/classification.py:1076: UndefinedMetricWarning: F-score is ill-defined and being set to 0.0 in labels with no true samples.\n",
      "  'recall', 'true', average, warn_for)\n",
      "/home/lhu/.local/lib/python3.5/site-packages/sklearn/metrics/classification.py:1076: UndefinedMetricWarning: F-score is ill-defined and being set to 0.0 in labels with no true samples.\n",
      "  'recall', 'true', average, warn_for)\n",
      "/home/lhu/.local/lib/python3.5/site-packages/sklearn/metrics/classification.py:1076: UndefinedMetricWarning: F-score is ill-defined and being set to 0.0 in labels with no true samples.\n",
      "  'recall', 'true', average, warn_for)\n",
      "/home/lhu/.local/lib/python3.5/site-packages/sklearn/metrics/classification.py:1074: UndefinedMetricWarning: F-score is ill-defined and being set to 0.0 in labels with no predicted samples.\n",
      "  'precision', 'predicted', average, warn_for)\n"
     ]
    },
    {
     "name": "stdout",
     "output_type": "stream",
     "text": [
      "[CV] ........ gamma=auto, kernel=sigmoid, C=1, score=0.996334 -   0.5s\n",
      "[Parallel(n_jobs=1)]: Done  11 tasks       | elapsed:    0.9s\n",
      "[CV] gamma=auto, kernel=sigmoid, C=1 .................................\n"
     ]
    },
    {
     "name": "stderr",
     "output_type": "stream",
     "text": [
      "/home/lhu/.local/lib/python3.5/site-packages/sklearn/metrics/classification.py:1074: UndefinedMetricWarning: F-score is ill-defined and being set to 0.0 in labels with no predicted samples.\n",
      "  'precision', 'predicted', average, warn_for)\n"
     ]
    },
    {
     "name": "stdout",
     "output_type": "stream",
     "text": [
      "[CV] ........ gamma=auto, kernel=sigmoid, C=1, score=0.996334 -   0.5s\n",
      "[Parallel(n_jobs=1)]: Done  12 tasks       | elapsed:    1.5s\n",
      "[CV] gamma=auto, kernel=sigmoid, C=1 .................................\n"
     ]
    },
    {
     "name": "stderr",
     "output_type": "stream",
     "text": [
      "/home/lhu/.local/lib/python3.5/site-packages/sklearn/metrics/classification.py:1074: UndefinedMetricWarning: F-score is ill-defined and being set to 0.0 in labels with no predicted samples.\n",
      "  'precision', 'predicted', average, warn_for)\n"
     ]
    },
    {
     "name": "stdout",
     "output_type": "stream",
     "text": [
      "[CV] ........ gamma=auto, kernel=sigmoid, C=1, score=0.996325 -   0.5s\n",
      "[Parallel(n_jobs=1)]: Done  13 tasks       | elapsed:    2.0s\n",
      "[CV] gamma=auto, kernel=sigmoid, C=1 .................................\n"
     ]
    },
    {
     "name": "stderr",
     "output_type": "stream",
     "text": [
      "/home/lhu/.local/lib/python3.5/site-packages/sklearn/metrics/classification.py:1074: UndefinedMetricWarning: F-score is ill-defined and being set to 0.0 in labels with no predicted samples.\n",
      "  'precision', 'predicted', average, warn_for)\n"
     ]
    },
    {
     "name": "stdout",
     "output_type": "stream",
     "text": [
      "[CV] ........ gamma=auto, kernel=sigmoid, C=1, score=0.996325 -   0.5s\n",
      "[Parallel(n_jobs=1)]: Done  14 tasks       | elapsed:    2.6s\n",
      "[CV] gamma=auto, kernel=sigmoid, C=1 .................................\n"
     ]
    },
    {
     "name": "stderr",
     "output_type": "stream",
     "text": [
      "/home/lhu/.local/lib/python3.5/site-packages/sklearn/metrics/classification.py:1074: UndefinedMetricWarning: F-score is ill-defined and being set to 0.0 in labels with no predicted samples.\n",
      "  'precision', 'predicted', average, warn_for)\n"
     ]
    },
    {
     "name": "stdout",
     "output_type": "stream",
     "text": [
      "[CV] ........ gamma=auto, kernel=sigmoid, C=1, score=0.996325 -   0.5s\n",
      "[Parallel(n_jobs=1)]: Done  15 tasks       | elapsed:    3.1s\n",
      "[CV] gamma=auto, kernel=sigmoid, C=1 .................................\n"
     ]
    },
    {
     "name": "stderr",
     "output_type": "stream",
     "text": [
      "/home/lhu/.local/lib/python3.5/site-packages/sklearn/metrics/classification.py:1074: UndefinedMetricWarning: F-score is ill-defined and being set to 0.0 in labels with no predicted samples.\n",
      "  'precision', 'predicted', average, warn_for)\n"
     ]
    },
    {
     "name": "stdout",
     "output_type": "stream",
     "text": [
      "[CV] ........ gamma=auto, kernel=sigmoid, C=1, score=0.996325 -   0.5s\n",
      "[Parallel(n_jobs=1)]: Done  16 tasks       | elapsed:    3.6s\n",
      "[CV] gamma=auto, kernel=sigmoid, C=1 .................................\n"
     ]
    },
    {
     "name": "stderr",
     "output_type": "stream",
     "text": [
      "/home/lhu/.local/lib/python3.5/site-packages/sklearn/metrics/classification.py:1074: UndefinedMetricWarning: F-score is ill-defined and being set to 0.0 in labels with no predicted samples.\n",
      "  'precision', 'predicted', average, warn_for)\n",
      "/home/lhu/.local/lib/python3.5/site-packages/sklearn/metrics/classification.py:1076: UndefinedMetricWarning: F-score is ill-defined and being set to 0.0 in labels with no true samples.\n",
      "  'recall', 'true', average, warn_for)\n"
     ]
    },
    {
     "name": "stdout",
     "output_type": "stream",
     "text": [
      "[CV] ........ gamma=auto, kernel=sigmoid, C=1, score=0.000000 -   0.6s\n",
      "[Parallel(n_jobs=1)]: Done  17 tasks       | elapsed:    4.2s\n",
      "[CV] gamma=auto, kernel=sigmoid, C=1 .................................\n"
     ]
    },
    {
     "name": "stderr",
     "output_type": "stream",
     "text": [
      "/home/lhu/.local/lib/python3.5/site-packages/sklearn/metrics/classification.py:1074: UndefinedMetricWarning: F-score is ill-defined and being set to 0.0 in labels with no predicted samples.\n",
      "  'precision', 'predicted', average, warn_for)\n",
      "/home/lhu/.local/lib/python3.5/site-packages/sklearn/metrics/classification.py:1076: UndefinedMetricWarning: F-score is ill-defined and being set to 0.0 in labels with no true samples.\n",
      "  'recall', 'true', average, warn_for)\n"
     ]
    },
    {
     "name": "stdout",
     "output_type": "stream",
     "text": [
      "[CV] ........ gamma=auto, kernel=sigmoid, C=1, score=0.000000 -   0.6s\n",
      "[Parallel(n_jobs=1)]: Done  18 tasks       | elapsed:    4.7s\n",
      "[CV] gamma=auto, kernel=sigmoid, C=1 .................................\n"
     ]
    },
    {
     "name": "stderr",
     "output_type": "stream",
     "text": [
      "/home/lhu/.local/lib/python3.5/site-packages/sklearn/metrics/classification.py:1074: UndefinedMetricWarning: F-score is ill-defined and being set to 0.0 in labels with no predicted samples.\n",
      "  'precision', 'predicted', average, warn_for)\n",
      "/home/lhu/.local/lib/python3.5/site-packages/sklearn/metrics/classification.py:1076: UndefinedMetricWarning: F-score is ill-defined and being set to 0.0 in labels with no true samples.\n",
      "  'recall', 'true', average, warn_for)\n"
     ]
    },
    {
     "name": "stdout",
     "output_type": "stream",
     "text": [
      "[CV] ........ gamma=auto, kernel=sigmoid, C=1, score=0.000000 -   0.6s\n",
      "[Parallel(n_jobs=1)]: Done  19 tasks       | elapsed:    5.3s\n",
      "[CV] gamma=auto, kernel=sigmoid, C=1 .................................\n"
     ]
    },
    {
     "name": "stderr",
     "output_type": "stream",
     "text": [
      "/home/lhu/.local/lib/python3.5/site-packages/sklearn/metrics/classification.py:1074: UndefinedMetricWarning: F-score is ill-defined and being set to 0.0 in labels with no predicted samples.\n",
      "  'precision', 'predicted', average, warn_for)\n",
      "/home/lhu/.local/lib/python3.5/site-packages/sklearn/metrics/classification.py:1076: UndefinedMetricWarning: F-score is ill-defined and being set to 0.0 in labels with no true samples.\n",
      "  'recall', 'true', average, warn_for)\n"
     ]
    },
    {
     "name": "stdout",
     "output_type": "stream",
     "text": [
      "[CV] ........ gamma=auto, kernel=sigmoid, C=1, score=0.000000 -   0.6s\n",
      "[Parallel(n_jobs=1)]: Done  20 tasks       | elapsed:    5.8s\n",
      "[CV] gamma=0.001, kernel=rbf, C=0.1 ..................................\n",
      "[CV] ......... gamma=0.001, kernel=rbf, C=0.1, score=0.520482 -   1.0s\n",
      "[Parallel(n_jobs=1)]: Done  21 tasks       | elapsed:    6.9s\n",
      "[CV] gamma=0.001, kernel=rbf, C=0.1 ..................................\n",
      "[CV] ......... gamma=0.001, kernel=rbf, C=0.1, score=0.520482 -   1.0s\n",
      "[Parallel(n_jobs=1)]: Done  22 tasks       | elapsed:    7.9s\n",
      "[CV] gamma=0.001, kernel=rbf, C=0.1 ..................................\n",
      "[CV] ......... gamma=0.001, kernel=rbf, C=0.1, score=0.529404 -   1.0s\n",
      "[Parallel(n_jobs=1)]: Done  23 tasks       | elapsed:    8.9s\n",
      "[CV] gamma=0.001, kernel=rbf, C=0.1 ..................................\n",
      "[CV] ......... gamma=0.001, kernel=rbf, C=0.1, score=0.474507 -   1.0s\n",
      "[Parallel(n_jobs=1)]: Done  24 tasks       | elapsed:    9.9s\n",
      "[CV] gamma=0.001, kernel=rbf, C=0.1 ..................................\n",
      "[CV] ......... gamma=0.001, kernel=rbf, C=0.1, score=0.507928 -   1.0s\n",
      "[Parallel(n_jobs=1)]: Done  25 tasks       | elapsed:   10.9s\n",
      "[CV] gamma=0.001, kernel=rbf, C=0.1 ..................................\n",
      "[CV] ......... gamma=0.001, kernel=rbf, C=0.1, score=0.499711 -   1.0s\n",
      "[Parallel(n_jobs=1)]: Done  26 tasks       | elapsed:   12.0s\n",
      "[CV] gamma=0.001, kernel=rbf, C=0.1 ..................................\n"
     ]
    },
    {
     "name": "stderr",
     "output_type": "stream",
     "text": [
      "/home/lhu/.local/lib/python3.5/site-packages/sklearn/metrics/classification.py:1076: UndefinedMetricWarning: F-score is ill-defined and being set to 0.0 in labels with no true samples.\n",
      "  'recall', 'true', average, warn_for)\n"
     ]
    },
    {
     "name": "stdout",
     "output_type": "stream",
     "text": [
      "[CV] ......... gamma=0.001, kernel=rbf, C=0.1, score=0.511883 -   1.0s\n",
      "[Parallel(n_jobs=1)]: Done  27 tasks       | elapsed:   13.0s\n",
      "[CV] gamma=0.001, kernel=rbf, C=0.1 ..................................\n"
     ]
    },
    {
     "name": "stderr",
     "output_type": "stream",
     "text": [
      "/home/lhu/.local/lib/python3.5/site-packages/sklearn/metrics/classification.py:1076: UndefinedMetricWarning: F-score is ill-defined and being set to 0.0 in labels with no true samples.\n",
      "  'recall', 'true', average, warn_for)\n"
     ]
    },
    {
     "name": "stdout",
     "output_type": "stream",
     "text": [
      "[CV] ......... gamma=0.001, kernel=rbf, C=0.1, score=0.492593 -   0.9s\n",
      "[Parallel(n_jobs=1)]: Done  28 tasks       | elapsed:   13.9s\n",
      "[CV] gamma=0.001, kernel=rbf, C=0.1 ..................................\n"
     ]
    },
    {
     "name": "stderr",
     "output_type": "stream",
     "text": [
      "/home/lhu/.local/lib/python3.5/site-packages/sklearn/metrics/classification.py:1076: UndefinedMetricWarning: F-score is ill-defined and being set to 0.0 in labels with no true samples.\n",
      "  'recall', 'true', average, warn_for)\n"
     ]
    },
    {
     "name": "stdout",
     "output_type": "stream",
     "text": [
      "[CV] ......... gamma=0.001, kernel=rbf, C=0.1, score=0.530686 -   1.0s\n",
      "[Parallel(n_jobs=1)]: Done  29 tasks       | elapsed:   14.9s\n",
      "[CV] gamma=0.001, kernel=rbf, C=0.1 ..................................\n"
     ]
    },
    {
     "name": "stderr",
     "output_type": "stream",
     "text": [
      "/home/lhu/.local/lib/python3.5/site-packages/sklearn/metrics/classification.py:1076: UndefinedMetricWarning: F-score is ill-defined and being set to 0.0 in labels with no true samples.\n",
      "  'recall', 'true', average, warn_for)\n"
     ]
    },
    {
     "name": "stdout",
     "output_type": "stream",
     "text": [
      "[CV] ......... gamma=0.001, kernel=rbf, C=0.1, score=0.535971 -   1.0s\n",
      "[Parallel(n_jobs=1)]: Done  30 tasks       | elapsed:   15.9s\n",
      "[CV] gamma=0.001, kernel=linear, C=1000 ..............................\n",
      "[CV] ..... gamma=0.001, kernel=linear, C=1000, score=0.994852 -   0.2s\n",
      "[Parallel(n_jobs=1)]: Done  31 tasks       | elapsed:   16.0s\n",
      "[CV] gamma=0.001, kernel=linear, C=1000 ..............................\n",
      "[CV] ..... gamma=0.001, kernel=linear, C=1000, score=0.993456 -   0.1s\n",
      "[Parallel(n_jobs=1)]: Done  32 tasks       | elapsed:   16.2s\n",
      "[CV] gamma=0.001, kernel=linear, C=1000 ..............................\n",
      "[CV] ..... gamma=0.001, kernel=linear, C=1000, score=0.996317 -   0.1s\n",
      "[Parallel(n_jobs=1)]: Done  33 tasks       | elapsed:   16.3s\n",
      "[CV] gamma=0.001, kernel=linear, C=1000 ..............................\n",
      "[CV] ..... gamma=0.001, kernel=linear, C=1000, score=0.993440 -   0.1s\n",
      "[Parallel(n_jobs=1)]: Done  34 tasks       | elapsed:   16.5s\n",
      "[CV] gamma=0.001, kernel=linear, C=1000 ..............................\n",
      "[CV] ..... gamma=0.001, kernel=linear, C=1000, score=0.996317 -   0.1s\n",
      "[Parallel(n_jobs=1)]: Done  35 tasks       | elapsed:   16.6s\n",
      "[CV] gamma=0.001, kernel=linear, C=1000 ..............................\n",
      "[CV] ..... gamma=0.001, kernel=linear, C=1000, score=0.996317 -   0.1s\n",
      "[Parallel(n_jobs=1)]: Done  36 tasks       | elapsed:   16.7s\n",
      "[CV] gamma=0.001, kernel=linear, C=1000 ..............................\n",
      "[CV] ..... gamma=0.001, kernel=linear, C=1000, score=0.996301 -   0.2s\n",
      "[Parallel(n_jobs=1)]: Done  37 tasks       | elapsed:   16.9s\n",
      "[CV] gamma=0.001, kernel=linear, C=1000 ..............................\n"
     ]
    },
    {
     "name": "stderr",
     "output_type": "stream",
     "text": [
      "/home/lhu/.local/lib/python3.5/site-packages/sklearn/metrics/classification.py:1076: UndefinedMetricWarning: F-score is ill-defined and being set to 0.0 in labels with no true samples.\n",
      "  'recall', 'true', average, warn_for)\n",
      "/home/lhu/.local/lib/python3.5/site-packages/sklearn/metrics/classification.py:1076: UndefinedMetricWarning: F-score is ill-defined and being set to 0.0 in labels with no true samples.\n",
      "  'recall', 'true', average, warn_for)\n"
     ]
    },
    {
     "name": "stdout",
     "output_type": "stream",
     "text": [
      "[CV] ..... gamma=0.001, kernel=linear, C=1000, score=0.992574 -   0.2s\n",
      "[Parallel(n_jobs=1)]: Done  38 tasks       | elapsed:   17.1s\n",
      "[CV] gamma=0.001, kernel=linear, C=1000 ..............................\n",
      "[CV] ..... gamma=0.001, kernel=linear, C=1000, score=0.995062 -   0.1s\n",
      "[Parallel(n_jobs=1)]: Done  39 tasks       | elapsed:   17.3s\n",
      "[CV] gamma=0.001, kernel=linear, C=1000 ..............................\n"
     ]
    },
    {
     "name": "stderr",
     "output_type": "stream",
     "text": [
      "/home/lhu/.local/lib/python3.5/site-packages/sklearn/metrics/classification.py:1076: UndefinedMetricWarning: F-score is ill-defined and being set to 0.0 in labels with no true samples.\n",
      "  'recall', 'true', average, warn_for)\n",
      "/home/lhu/.local/lib/python3.5/site-packages/sklearn/metrics/classification.py:1076: UndefinedMetricWarning: F-score is ill-defined and being set to 0.0 in labels with no true samples.\n",
      "  'recall', 'true', average, warn_for)\n"
     ]
    },
    {
     "name": "stdout",
     "output_type": "stream",
     "text": [
      "[CV] ..... gamma=0.001, kernel=linear, C=1000, score=0.992574 -   0.1s\n",
      "[Parallel(n_jobs=1)]: Done  40 tasks       | elapsed:   17.4s\n",
      "[CV] gamma=0.001, kernel=sigmoid, C=100 ..............................\n",
      "[CV] ..... gamma=0.001, kernel=sigmoid, C=100, score=0.980447 -   0.1s\n",
      "[Parallel(n_jobs=1)]: Done  41 tasks       | elapsed:   17.5s\n",
      "[CV] gamma=0.001, kernel=sigmoid, C=100 ..............................\n",
      "[CV] ..... gamma=0.001, kernel=sigmoid, C=100, score=0.985586 -   0.1s\n",
      "[Parallel(n_jobs=1)]: Done  42 tasks       | elapsed:   17.6s\n",
      "[CV] gamma=0.001, kernel=sigmoid, C=100 ..............................\n",
      "[CV] ..... gamma=0.001, kernel=sigmoid, C=100, score=0.984261 -   0.1s\n",
      "[Parallel(n_jobs=1)]: Done  43 tasks       | elapsed:   17.8s\n",
      "[CV] gamma=0.001, kernel=sigmoid, C=100 ..............................\n",
      "[CV] ..... gamma=0.001, kernel=sigmoid, C=100, score=0.985550 -   0.1s\n",
      "[Parallel(n_jobs=1)]: Done  44 tasks       | elapsed:   17.9s\n",
      "[CV] gamma=0.001, kernel=sigmoid, C=100 ..............................\n",
      "[CV] ..... gamma=0.001, kernel=sigmoid, C=100, score=0.982973 -   0.1s\n",
      "[Parallel(n_jobs=1)]: Done  45 tasks       | elapsed:   18.0s\n",
      "[CV] gamma=0.001, kernel=sigmoid, C=100 ..............................\n",
      "[CV] ..... gamma=0.001, kernel=sigmoid, C=100, score=0.980398 -   0.1s\n",
      "[Parallel(n_jobs=1)]: Done  46 tasks       | elapsed:   18.1s\n",
      "[CV] gamma=0.001, kernel=sigmoid, C=100 ..............................\n",
      "[CV] ..... gamma=0.001, kernel=sigmoid, C=100, score=0.985037 -   0.1s\n",
      "[Parallel(n_jobs=1)]: Done  47 tasks       | elapsed:   18.3s\n",
      "[CV] gamma=0.001, kernel=sigmoid, C=100 ..............................\n"
     ]
    },
    {
     "name": "stderr",
     "output_type": "stream",
     "text": [
      "/home/lhu/.local/lib/python3.5/site-packages/sklearn/metrics/classification.py:1076: UndefinedMetricWarning: F-score is ill-defined and being set to 0.0 in labels with no true samples.\n",
      "  'recall', 'true', average, warn_for)\n",
      "/home/lhu/.local/lib/python3.5/site-packages/sklearn/metrics/classification.py:1076: UndefinedMetricWarning: F-score is ill-defined and being set to 0.0 in labels with no true samples.\n",
      "  'recall', 'true', average, warn_for)\n"
     ]
    },
    {
     "name": "stdout",
     "output_type": "stream",
     "text": [
      "[CV] ..... gamma=0.001, kernel=sigmoid, C=100, score=0.973518 -   0.1s\n",
      "[Parallel(n_jobs=1)]: Done  48 tasks       | elapsed:   18.4s\n",
      "[CV] gamma=0.001, kernel=sigmoid, C=100 ..............................\n",
      "[CV] ..... gamma=0.001, kernel=sigmoid, C=100, score=0.985037 -   0.1s\n",
      "[Parallel(n_jobs=1)]: Done  49 tasks       | elapsed:   18.5s\n",
      "[CV] gamma=0.001, kernel=sigmoid, C=100 ..............................\n"
     ]
    },
    {
     "name": "stderr",
     "output_type": "stream",
     "text": [
      "/home/lhu/.local/lib/python3.5/site-packages/sklearn/metrics/classification.py:1076: UndefinedMetricWarning: F-score is ill-defined and being set to 0.0 in labels with no true samples.\n",
      "  'recall', 'true', average, warn_for)\n",
      "/home/lhu/.local/lib/python3.5/site-packages/sklearn/metrics/classification.py:1076: UndefinedMetricWarning: F-score is ill-defined and being set to 0.0 in labels with no true samples.\n",
      "  'recall', 'true', average, warn_for)\n"
     ]
    },
    {
     "name": "stdout",
     "output_type": "stream",
     "text": [
      "[CV] ..... gamma=0.001, kernel=sigmoid, C=100, score=0.976101 -   0.1s\n",
      "[Parallel(n_jobs=1)]: Done  50 tasks       | elapsed:   18.6s\n",
      "[CV] gamma=0.0001, kernel=rbf, C=0.1 .................................\n"
     ]
    },
    {
     "name": "stderr",
     "output_type": "stream",
     "text": [
      "/home/lhu/.local/lib/python3.5/site-packages/sklearn/metrics/classification.py:1074: UndefinedMetricWarning: F-score is ill-defined and being set to 0.0 in labels with no predicted samples.\n",
      "  'precision', 'predicted', average, warn_for)\n"
     ]
    },
    {
     "name": "stdout",
     "output_type": "stream",
     "text": [
      "[CV] ........ gamma=0.0001, kernel=rbf, C=0.1, score=0.996334 -   1.0s\n",
      "[Parallel(n_jobs=1)]: Done  51 tasks       | elapsed:   19.7s\n",
      "[CV] gamma=0.0001, kernel=rbf, C=0.1 .................................\n"
     ]
    },
    {
     "name": "stderr",
     "output_type": "stream",
     "text": [
      "/home/lhu/.local/lib/python3.5/site-packages/sklearn/metrics/classification.py:1074: UndefinedMetricWarning: F-score is ill-defined and being set to 0.0 in labels with no predicted samples.\n",
      "  'precision', 'predicted', average, warn_for)\n"
     ]
    },
    {
     "name": "stdout",
     "output_type": "stream",
     "text": [
      "[CV] ........ gamma=0.0001, kernel=rbf, C=0.1, score=0.996334 -   1.0s\n",
      "[Parallel(n_jobs=1)]: Done  52 tasks       | elapsed:   20.7s\n",
      "[CV] gamma=0.0001, kernel=rbf, C=0.1 .................................\n"
     ]
    },
    {
     "name": "stderr",
     "output_type": "stream",
     "text": [
      "/home/lhu/.local/lib/python3.5/site-packages/sklearn/metrics/classification.py:1074: UndefinedMetricWarning: F-score is ill-defined and being set to 0.0 in labels with no predicted samples.\n",
      "  'precision', 'predicted', average, warn_for)\n"
     ]
    },
    {
     "name": "stdout",
     "output_type": "stream",
     "text": [
      "[CV] ........ gamma=0.0001, kernel=rbf, C=0.1, score=0.996325 -   1.0s\n",
      "[Parallel(n_jobs=1)]: Done  53 tasks       | elapsed:   21.8s\n",
      "[CV] gamma=0.0001, kernel=rbf, C=0.1 .................................\n"
     ]
    },
    {
     "name": "stderr",
     "output_type": "stream",
     "text": [
      "/home/lhu/.local/lib/python3.5/site-packages/sklearn/metrics/classification.py:1074: UndefinedMetricWarning: F-score is ill-defined and being set to 0.0 in labels with no predicted samples.\n",
      "  'precision', 'predicted', average, warn_for)\n"
     ]
    },
    {
     "name": "stdout",
     "output_type": "stream",
     "text": [
      "[CV] ........ gamma=0.0001, kernel=rbf, C=0.1, score=0.996325 -   1.0s\n",
      "[Parallel(n_jobs=1)]: Done  54 tasks       | elapsed:   22.8s\n",
      "[CV] gamma=0.0001, kernel=rbf, C=0.1 .................................\n"
     ]
    },
    {
     "name": "stderr",
     "output_type": "stream",
     "text": [
      "/home/lhu/.local/lib/python3.5/site-packages/sklearn/metrics/classification.py:1074: UndefinedMetricWarning: F-score is ill-defined and being set to 0.0 in labels with no predicted samples.\n",
      "  'precision', 'predicted', average, warn_for)\n"
     ]
    },
    {
     "name": "stdout",
     "output_type": "stream",
     "text": [
      "[CV] ........ gamma=0.0001, kernel=rbf, C=0.1, score=0.996325 -   1.0s\n",
      "[Parallel(n_jobs=1)]: Done  55 tasks       | elapsed:   23.8s\n",
      "[CV] gamma=0.0001, kernel=rbf, C=0.1 .................................\n"
     ]
    },
    {
     "name": "stderr",
     "output_type": "stream",
     "text": [
      "/home/lhu/.local/lib/python3.5/site-packages/sklearn/metrics/classification.py:1074: UndefinedMetricWarning: F-score is ill-defined and being set to 0.0 in labels with no predicted samples.\n",
      "  'precision', 'predicted', average, warn_for)\n"
     ]
    },
    {
     "name": "stdout",
     "output_type": "stream",
     "text": [
      "[CV] ........ gamma=0.0001, kernel=rbf, C=0.1, score=0.996325 -   1.0s\n",
      "[Parallel(n_jobs=1)]: Done  56 tasks       | elapsed:   24.9s\n",
      "[CV] gamma=0.0001, kernel=rbf, C=0.1 .................................\n"
     ]
    },
    {
     "name": "stderr",
     "output_type": "stream",
     "text": [
      "/home/lhu/.local/lib/python3.5/site-packages/sklearn/metrics/classification.py:1074: UndefinedMetricWarning: F-score is ill-defined and being set to 0.0 in labels with no predicted samples.\n",
      "  'precision', 'predicted', average, warn_for)\n",
      "/home/lhu/.local/lib/python3.5/site-packages/sklearn/metrics/classification.py:1076: UndefinedMetricWarning: F-score is ill-defined and being set to 0.0 in labels with no true samples.\n",
      "  'recall', 'true', average, warn_for)\n"
     ]
    },
    {
     "name": "stdout",
     "output_type": "stream",
     "text": [
      "[CV] ........ gamma=0.0001, kernel=rbf, C=0.1, score=0.000000 -   1.1s\n",
      "[Parallel(n_jobs=1)]: Done  57 tasks       | elapsed:   26.0s\n",
      "[CV] gamma=0.0001, kernel=rbf, C=0.1 .................................\n"
     ]
    },
    {
     "name": "stderr",
     "output_type": "stream",
     "text": [
      "/home/lhu/.local/lib/python3.5/site-packages/sklearn/metrics/classification.py:1074: UndefinedMetricWarning: F-score is ill-defined and being set to 0.0 in labels with no predicted samples.\n",
      "  'precision', 'predicted', average, warn_for)\n",
      "/home/lhu/.local/lib/python3.5/site-packages/sklearn/metrics/classification.py:1076: UndefinedMetricWarning: F-score is ill-defined and being set to 0.0 in labels with no true samples.\n",
      "  'recall', 'true', average, warn_for)\n"
     ]
    },
    {
     "name": "stdout",
     "output_type": "stream",
     "text": [
      "[CV] ........ gamma=0.0001, kernel=rbf, C=0.1, score=0.000000 -   1.1s\n",
      "[Parallel(n_jobs=1)]: Done  58 tasks       | elapsed:   27.1s\n",
      "[CV] gamma=0.0001, kernel=rbf, C=0.1 .................................\n"
     ]
    },
    {
     "name": "stderr",
     "output_type": "stream",
     "text": [
      "/home/lhu/.local/lib/python3.5/site-packages/sklearn/metrics/classification.py:1074: UndefinedMetricWarning: F-score is ill-defined and being set to 0.0 in labels with no predicted samples.\n",
      "  'precision', 'predicted', average, warn_for)\n",
      "/home/lhu/.local/lib/python3.5/site-packages/sklearn/metrics/classification.py:1076: UndefinedMetricWarning: F-score is ill-defined and being set to 0.0 in labels with no true samples.\n",
      "  'recall', 'true', average, warn_for)\n"
     ]
    },
    {
     "name": "stdout",
     "output_type": "stream",
     "text": [
      "[CV] ........ gamma=0.0001, kernel=rbf, C=0.1, score=0.000000 -   1.1s\n",
      "[Parallel(n_jobs=1)]: Done  59 tasks       | elapsed:   28.2s\n",
      "[CV] gamma=0.0001, kernel=rbf, C=0.1 .................................\n"
     ]
    },
    {
     "name": "stderr",
     "output_type": "stream",
     "text": [
      "/home/lhu/.local/lib/python3.5/site-packages/sklearn/metrics/classification.py:1074: UndefinedMetricWarning: F-score is ill-defined and being set to 0.0 in labels with no predicted samples.\n",
      "  'precision', 'predicted', average, warn_for)\n",
      "/home/lhu/.local/lib/python3.5/site-packages/sklearn/metrics/classification.py:1076: UndefinedMetricWarning: F-score is ill-defined and being set to 0.0 in labels with no true samples.\n",
      "  'recall', 'true', average, warn_for)\n"
     ]
    },
    {
     "name": "stdout",
     "output_type": "stream",
     "text": [
      "[CV] ........ gamma=0.0001, kernel=rbf, C=0.1, score=0.000000 -   1.1s\n",
      "[Parallel(n_jobs=1)]: Done  60 tasks       | elapsed:   29.3s\n",
      "[CV] gamma=0.001, kernel=linear, C=10 ................................\n",
      "[CV] ....... gamma=0.001, kernel=linear, C=10, score=0.992103 -   0.0s\n",
      "[Parallel(n_jobs=1)]: Done  61 tasks       | elapsed:   29.4s\n",
      "[CV] gamma=0.001, kernel=linear, C=10 ................................\n",
      "[CV] ....... gamma=0.001, kernel=linear, C=10, score=0.993456 -   0.0s\n",
      "[Parallel(n_jobs=1)]: Done  62 tasks       | elapsed:   29.4s\n",
      "[CV] gamma=0.001, kernel=linear, C=10 ................................\n",
      "[CV] ....... gamma=0.001, kernel=linear, C=10, score=0.996317 -   0.0s\n",
      "[Parallel(n_jobs=1)]: Done  63 tasks       | elapsed:   29.5s\n",
      "[CV] gamma=0.001, kernel=linear, C=10 ................................\n",
      "[CV] ....... gamma=0.001, kernel=linear, C=10, score=0.990754 -   0.0s\n",
      "[Parallel(n_jobs=1)]: Done  64 tasks       | elapsed:   29.5s\n",
      "[CV] gamma=0.001, kernel=linear, C=10 ................................\n",
      "[CV] ....... gamma=0.001, kernel=linear, C=10, score=0.993440 -   0.0s\n",
      "[Parallel(n_jobs=1)]: Done  65 tasks       | elapsed:   29.6s\n",
      "[CV] gamma=0.001, kernel=linear, C=10 ................................\n",
      "[CV] ....... gamma=0.001, kernel=linear, C=10, score=0.994839 -   0.0s\n",
      "[Parallel(n_jobs=1)]: Done  66 tasks       | elapsed:   29.6s\n",
      "[CV] gamma=0.001, kernel=linear, C=10 ................................\n",
      "[CV] ....... gamma=0.001, kernel=linear, C=10, score=0.996301 -   0.0s\n",
      "[Parallel(n_jobs=1)]: Done  67 tasks       | elapsed:   29.7s\n",
      "[CV] gamma=0.001, kernel=linear, C=10 ................................\n"
     ]
    },
    {
     "name": "stderr",
     "output_type": "stream",
     "text": [
      "/home/lhu/.local/lib/python3.5/site-packages/sklearn/metrics/classification.py:1076: UndefinedMetricWarning: F-score is ill-defined and being set to 0.0 in labels with no true samples.\n",
      "  'recall', 'true', average, warn_for)\n",
      "/home/lhu/.local/lib/python3.5/site-packages/sklearn/metrics/classification.py:1076: UndefinedMetricWarning: F-score is ill-defined and being set to 0.0 in labels with no true samples.\n",
      "  'recall', 'true', average, warn_for)\n",
      "/home/lhu/.local/lib/python3.5/site-packages/sklearn/metrics/classification.py:1076: UndefinedMetricWarning: F-score is ill-defined and being set to 0.0 in labels with no true samples.\n",
      "  'recall', 'true', average, warn_for)\n",
      "/home/lhu/.local/lib/python3.5/site-packages/sklearn/metrics/classification.py:1076: UndefinedMetricWarning: F-score is ill-defined and being set to 0.0 in labels with no true samples.\n",
      "  'recall', 'true', average, warn_for)\n"
     ]
    },
    {
     "name": "stdout",
     "output_type": "stream",
     "text": [
      "[CV] ....... gamma=0.001, kernel=linear, C=10, score=0.991326 -   0.0s\n",
      "[Parallel(n_jobs=1)]: Done  68 tasks       | elapsed:   29.7s\n",
      "[CV] gamma=0.001, kernel=linear, C=10 ................................\n",
      "[CV] ....... gamma=0.001, kernel=linear, C=10, score=0.995062 -   0.0s\n",
      "[Parallel(n_jobs=1)]: Done  69 tasks       | elapsed:   29.8s\n",
      "[CV] gamma=0.001, kernel=linear, C=10 ................................\n",
      "[CV] ....... gamma=0.001, kernel=linear, C=10, score=0.992574 -   0.0s\n",
      "[Parallel(n_jobs=1)]: Done  70 tasks       | elapsed:   29.8s\n",
      "[CV] gamma=0.001, kernel=rbf, C=100 ..................................\n",
      "[CV] ......... gamma=0.001, kernel=rbf, C=100, score=0.980447 -   0.1s\n",
      "[Parallel(n_jobs=1)]: Done  71 tasks       | elapsed:   29.9s\n",
      "[CV] gamma=0.001, kernel=rbf, C=100 ..................................\n",
      "[CV] ......... gamma=0.001, kernel=rbf, C=100, score=0.988167 -   0.1s\n",
      "[Parallel(n_jobs=1)]: Done  72 tasks       | elapsed:   30.0s\n",
      "[CV] gamma=0.001, kernel=rbf, C=100 ..................................\n",
      "[CV] ......... gamma=0.001, kernel=rbf, C=100, score=0.988138 -   0.1s\n",
      "[Parallel(n_jobs=1)]: Done  73 tasks       | elapsed:   30.1s\n",
      "[CV] gamma=0.001, kernel=rbf, C=100 ..................................\n",
      "[CV] ......... gamma=0.001, kernel=rbf, C=100, score=0.985550 -   0.1s\n",
      "[Parallel(n_jobs=1)]: Done  74 tasks       | elapsed:   30.2s\n",
      "[CV] gamma=0.001, kernel=rbf, C=100 ..................................\n",
      "[CV] ......... gamma=0.001, kernel=rbf, C=100, score=0.984261 -   0.1s\n",
      "[Parallel(n_jobs=1)]: Done  75 tasks       | elapsed:   30.3s\n",
      "[CV] gamma=0.001, kernel=rbf, C=100 ..................................\n",
      "[CV] ......... gamma=0.001, kernel=rbf, C=100, score=0.984261 -   0.1s\n",
      "[Parallel(n_jobs=1)]: Done  76 tasks       | elapsed:   30.4s\n",
      "[CV] gamma=0.001, kernel=rbf, C=100 ..................................\n"
     ]
    },
    {
     "name": "stderr",
     "output_type": "stream",
     "text": [
      "/home/lhu/.local/lib/python3.5/site-packages/sklearn/metrics/classification.py:1076: UndefinedMetricWarning: F-score is ill-defined and being set to 0.0 in labels with no true samples.\n",
      "  'recall', 'true', average, warn_for)\n",
      "/home/lhu/.local/lib/python3.5/site-packages/sklearn/metrics/classification.py:1076: UndefinedMetricWarning: F-score is ill-defined and being set to 0.0 in labels with no true samples.\n",
      "  'recall', 'true', average, warn_for)\n",
      "/home/lhu/.local/lib/python3.5/site-packages/sklearn/metrics/classification.py:1076: UndefinedMetricWarning: F-score is ill-defined and being set to 0.0 in labels with no true samples.\n",
      "  'recall', 'true', average, warn_for)\n"
     ]
    },
    {
     "name": "stdout",
     "output_type": "stream",
     "text": [
      "[CV] ......... gamma=0.001, kernel=rbf, C=100, score=0.985037 -   0.1s\n",
      "[Parallel(n_jobs=1)]: Done  77 tasks       | elapsed:   30.5s\n",
      "[CV] gamma=0.001, kernel=rbf, C=100 ..................................\n",
      "[CV] ......... gamma=0.001, kernel=rbf, C=100, score=0.978670 -   0.1s\n",
      "[Parallel(n_jobs=1)]: Done  78 tasks       | elapsed:   30.6s\n",
      "[CV] gamma=0.001, kernel=rbf, C=100 ..................................\n",
      "[CV] ......... gamma=0.001, kernel=rbf, C=100, score=0.991326 -   0.1s\n",
      "[Parallel(n_jobs=1)]: Done  79 tasks       | elapsed:   30.7s\n",
      "[CV] gamma=0.001, kernel=rbf, C=100 ..................................\n"
     ]
    },
    {
     "name": "stderr",
     "output_type": "stream",
     "text": [
      "/home/lhu/.local/lib/python3.5/site-packages/sklearn/metrics/classification.py:1076: UndefinedMetricWarning: F-score is ill-defined and being set to 0.0 in labels with no true samples.\n",
      "  'recall', 'true', average, warn_for)\n"
     ]
    },
    {
     "name": "stdout",
     "output_type": "stream",
     "text": [
      "[CV] ......... gamma=0.001, kernel=rbf, C=100, score=0.985037 -   0.1s\n",
      "[Parallel(n_jobs=1)]: Done  80 tasks       | elapsed:   30.8s\n",
      "[CV] gamma=0.0001, kernel=sigmoid, C=10 ..............................\n",
      "[CV] ..... gamma=0.0001, kernel=sigmoid, C=10, score=0.869290 -   0.7s\n",
      "[Parallel(n_jobs=1)]: Done  81 tasks       | elapsed:   31.5s\n",
      "[CV] gamma=0.0001, kernel=sigmoid, C=10 ..............................\n",
      "[CV] ..... gamma=0.0001, kernel=sigmoid, C=10, score=0.877026 -   0.7s\n",
      "[Parallel(n_jobs=1)]: Done  82 tasks       | elapsed:   32.2s\n",
      "[CV] gamma=0.0001, kernel=sigmoid, C=10 ..............................\n",
      "[CV] ..... gamma=0.0001, kernel=sigmoid, C=10, score=0.875145 -   0.7s\n",
      "[Parallel(n_jobs=1)]: Done  83 tasks       | elapsed:   32.9s\n",
      "[CV] gamma=0.0001, kernel=sigmoid, C=10 ..............................\n",
      "[CV] ..... gamma=0.0001, kernel=sigmoid, C=10, score=0.861062 -   0.7s\n",
      "[Parallel(n_jobs=1)]: Done  84 tasks       | elapsed:   33.6s\n",
      "[CV] gamma=0.0001, kernel=sigmoid, C=10 ..............................\n",
      "[CV] ..... gamma=0.0001, kernel=sigmoid, C=10, score=0.891892 -   0.7s\n",
      "[Parallel(n_jobs=1)]: Done  85 tasks       | elapsed:   34.3s\n",
      "[CV] gamma=0.0001, kernel=sigmoid, C=10 ..............................\n",
      "[CV] ..... gamma=0.0001, kernel=sigmoid, C=10, score=0.873598 -   0.7s\n",
      "[Parallel(n_jobs=1)]: Done  86 tasks       | elapsed:   35.0s\n",
      "[CV] gamma=0.0001, kernel=sigmoid, C=10 ..............................\n"
     ]
    },
    {
     "name": "stderr",
     "output_type": "stream",
     "text": [
      "/home/lhu/.local/lib/python3.5/site-packages/sklearn/metrics/classification.py:1076: UndefinedMetricWarning: F-score is ill-defined and being set to 0.0 in labels with no true samples.\n",
      "  'recall', 'true', average, warn_for)\n"
     ]
    },
    {
     "name": "stdout",
     "output_type": "stream",
     "text": [
      "[CV] ..... gamma=0.0001, kernel=sigmoid, C=10, score=0.874136 -   0.7s\n",
      "[Parallel(n_jobs=1)]: Done  87 tasks       | elapsed:   35.7s\n",
      "[CV] gamma=0.0001, kernel=sigmoid, C=10 ..............................\n"
     ]
    },
    {
     "name": "stderr",
     "output_type": "stream",
     "text": [
      "/home/lhu/.local/lib/python3.5/site-packages/sklearn/metrics/classification.py:1076: UndefinedMetricWarning: F-score is ill-defined and being set to 0.0 in labels with no true samples.\n",
      "  'recall', 'true', average, warn_for)\n"
     ]
    },
    {
     "name": "stdout",
     "output_type": "stream",
     "text": [
      "[CV] ..... gamma=0.0001, kernel=sigmoid, C=10, score=0.858345 -   0.7s\n",
      "[Parallel(n_jobs=1)]: Done  88 tasks       | elapsed:   36.5s\n",
      "[CV] gamma=0.0001, kernel=sigmoid, C=10 ..............................\n"
     ]
    },
    {
     "name": "stderr",
     "output_type": "stream",
     "text": [
      "/home/lhu/.local/lib/python3.5/site-packages/sklearn/metrics/classification.py:1076: UndefinedMetricWarning: F-score is ill-defined and being set to 0.0 in labels with no true samples.\n",
      "  'recall', 'true', average, warn_for)\n"
     ]
    },
    {
     "name": "stdout",
     "output_type": "stream",
     "text": [
      "[CV] ..... gamma=0.0001, kernel=sigmoid, C=10, score=0.858345 -   0.7s\n",
      "[Parallel(n_jobs=1)]: Done  89 tasks       | elapsed:   37.2s\n",
      "[CV] gamma=0.0001, kernel=sigmoid, C=10 ..............................\n"
     ]
    },
    {
     "name": "stderr",
     "output_type": "stream",
     "text": [
      "/home/lhu/.local/lib/python3.5/site-packages/sklearn/metrics/classification.py:1076: UndefinedMetricWarning: F-score is ill-defined and being set to 0.0 in labels with no true samples.\n",
      "  'recall', 'true', average, warn_for)\n"
     ]
    },
    {
     "name": "stdout",
     "output_type": "stream",
     "text": [
      "[CV] ..... gamma=0.0001, kernel=sigmoid, C=10, score=0.886457 -   0.7s\n",
      "[Parallel(n_jobs=1)]: Done  90 tasks       | elapsed:   37.9s\n",
      "[CV] gamma=0.0001, kernel=rbf, C=100 .................................\n",
      "[CV] ........ gamma=0.0001, kernel=rbf, C=100, score=0.967514 -   0.2s\n",
      "[Parallel(n_jobs=1)]: Done  91 tasks       | elapsed:   38.1s\n",
      "[CV] gamma=0.0001, kernel=rbf, C=100 .................................\n",
      "[CV] ........ gamma=0.0001, kernel=rbf, C=100, score=0.972713 -   0.2s\n",
      "[Parallel(n_jobs=1)]: Done  92 tasks       | elapsed:   38.3s\n",
      "[CV] gamma=0.0001, kernel=rbf, C=100 .................................\n",
      "[CV] ........ gamma=0.0001, kernel=rbf, C=100, score=0.967432 -   0.2s\n",
      "[Parallel(n_jobs=1)]: Done  93 tasks       | elapsed:   38.5s\n",
      "[CV] gamma=0.0001, kernel=rbf, C=100 .................................\n",
      "[CV] ........ gamma=0.0001, kernel=rbf, C=100, score=0.972645 -   0.2s\n",
      "[Parallel(n_jobs=1)]: Done  94 tasks       | elapsed:   38.7s\n",
      "[CV] gamma=0.0001, kernel=rbf, C=100 .................................\n",
      "[CV] ........ gamma=0.0001, kernel=rbf, C=100, score=0.968739 -   0.2s\n",
      "[Parallel(n_jobs=1)]: Done  95 tasks       | elapsed:   38.9s\n",
      "[CV] gamma=0.0001, kernel=rbf, C=100 .................................\n",
      "[CV] ........ gamma=0.0001, kernel=rbf, C=100, score=0.960855 -   0.2s\n",
      "[Parallel(n_jobs=1)]: Done  96 tasks       | elapsed:   39.1s\n",
      "[CV] gamma=0.0001, kernel=rbf, C=100 .................................\n"
     ]
    },
    {
     "name": "stderr",
     "output_type": "stream",
     "text": [
      "/home/lhu/.local/lib/python3.5/site-packages/sklearn/metrics/classification.py:1076: UndefinedMetricWarning: F-score is ill-defined and being set to 0.0 in labels with no true samples.\n",
      "  'recall', 'true', average, warn_for)\n"
     ]
    },
    {
     "name": "stdout",
     "output_type": "stream",
     "text": [
      "[CV] ........ gamma=0.0001, kernel=rbf, C=100, score=0.964377 -   0.2s\n",
      "[Parallel(n_jobs=1)]: Done  97 tasks       | elapsed:   39.3s\n",
      "[CV] gamma=0.0001, kernel=rbf, C=100 .................................\n"
     ]
    },
    {
     "name": "stderr",
     "output_type": "stream",
     "text": [
      "/home/lhu/.local/lib/python3.5/site-packages/sklearn/metrics/classification.py:1076: UndefinedMetricWarning: F-score is ill-defined and being set to 0.0 in labels with no true samples.\n",
      "  'recall', 'true', average, warn_for)\n"
     ]
    },
    {
     "name": "stdout",
     "output_type": "stream",
     "text": [
      "[CV] ........ gamma=0.0001, kernel=rbf, C=100, score=0.961735 -   0.2s\n",
      "[Parallel(n_jobs=1)]: Done  98 tasks       | elapsed:   39.5s\n",
      "[CV] gamma=0.0001, kernel=rbf, C=100 .................................\n",
      "[CV] ........ gamma=0.0001, kernel=rbf, C=100, score=0.968314 -   0.2s\n",
      "[Parallel(n_jobs=1)]: Done  99 tasks       | elapsed:   39.7s\n",
      "[CV] gamma=0.0001, kernel=rbf, C=100 .................................\n"
     ]
    },
    {
     "name": "stderr",
     "output_type": "stream",
     "text": [
      "/home/lhu/.local/lib/python3.5/site-packages/sklearn/metrics/classification.py:1076: UndefinedMetricWarning: F-score is ill-defined and being set to 0.0 in labels with no true samples.\n",
      "  'recall', 'true', average, warn_for)\n",
      "/home/lhu/.local/lib/python3.5/site-packages/sklearn/metrics/classification.py:1076: UndefinedMetricWarning: F-score is ill-defined and being set to 0.0 in labels with no true samples.\n",
      "  'recall', 'true', average, warn_for)\n"
     ]
    },
    {
     "name": "stdout",
     "output_type": "stream",
     "text": [
      "[CV] ........ gamma=0.0001, kernel=rbf, C=100, score=0.964377 -   0.2s\n",
      "[Parallel(n_jobs=1)]: Done 100 tasks       | elapsed:   40.0s\n",
      "[Parallel(n_jobs=1)]: Done 100 out of 100 | elapsed:   40.0s finished\n",
      "\n",
      "Best parameters set found on development set: \n",
      "\n",
      "{'gamma': 'auto', 'kernel': 'rbf', 'C': 10}\n",
      "\n",
      "Grid scores on development set:\n",
      "\n",
      "0.997 (+/-0.004) for {'gamma': 'auto', 'kernel': 'rbf', 'C': 10}\n",
      "0.599 (+/-0.976) for {'gamma': 'auto', 'kernel': 'sigmoid', 'C': 1}\n",
      "0.512 (+/-0.036) for {'gamma': 0.001, 'kernel': 'rbf', 'C': 0.1}\n",
      "0.995 (+/-0.003) for {'gamma': 0.001, 'kernel': 'linear', 'C': 1000}\n",
      "0.982 (+/-0.008) for {'gamma': 0.001, 'kernel': 'sigmoid', 'C': 100}\n",
      "0.599 (+/-0.976) for {'gamma': 0.0001, 'kernel': 'rbf', 'C': 0.1}\n",
      "0.994 (+/-0.004) for {'gamma': 0.001, 'kernel': 'linear', 'C': 10}\n",
      "0.985 (+/-0.007) for {'gamma': 0.001, 'kernel': 'rbf', 'C': 100}\n",
      "0.873 (+/-0.021) for {'gamma': 0.0001, 'kernel': 'sigmoid', 'C': 10}\n",
      "0.967 (+/-0.008) for {'gamma': 0.0001, 'kernel': 'rbf', 'C': 100}\n",
      "\n",
      "Detailed classification report:\n",
      "\n",
      "Report on Training Set\n",
      "             precision    recall  f1-score   support\n",
      "\n",
      "          0       1.00      1.00      1.00      4072\n",
      "          1       0.27      1.00      0.43         6\n",
      "\n",
      "avg / total       1.00      1.00      1.00      4078\n",
      "\n",
      "\n",
      "[[4056   16]\n",
      " [   0    6]]\n",
      "Specificity: 0.996070726916\n",
      "Report on Test Set\n",
      "\n",
      "             precision    recall  f1-score   support\n",
      "\n",
      "          0       1.00      0.99      0.99      4059\n",
      "          1       0.00      0.00      0.00        19\n",
      "\n",
      "avg / total       0.99      0.99      0.99      4078\n",
      "\n",
      "\n",
      "[[4037   22]\n",
      " [  19    0]]\n",
      "Specificity: 0.994579945799\n"
     ]
    },
    {
     "data": {
      "image/png": "[encoded data removed]",
      "text/plain": [
       "<matplotlib.figure.Figure at 0x7fb652018e48>"
      ]
     },
     "metadata": {},
     "output_type": "display_data"
    },
    {
     "name": "stdout",
     "output_type": "stream",
     "text": [
      "{'gamma': 'auto', 'kernel': 'rbf', 'C': 10}\n"
     ]
    }
   ],
   "source": [
    "x_train = x_train.loc[:, features[0:num_features]]\n",
    "x_test = x_test.loc[:, features[0:num_features]]\n",
    "CVTrainAndScore(x_train, y_train, x_test, y_test, x_train_sample_weights, output_filename=output_filename)"
   ]
  },
  {
   "cell_type": "code",
   "execution_count": 21,
   "metadata": {
    "collapsed": false
   },
   "outputs": [
    {
     "data": {
      "text/plain": [
       "Index(['Diff_P_technical_P_majeure_mean', 'Dif_rotor_1_avg_temps_t-4',\n",
       "       'CS101__Rear_bearing_temp_std', 'Diff_Avg_Sys_2_inverter_4_t-6',\n",
       "       'Diff_P_technical_P_external_std', 'CS101__Ambient_temp_mean',\n",
       "       'Diff_P_technical_P_external_mean', 'CS101__Control_cabinet_temp_std',\n",
       "       'Diff_Avg_Sys_1_inverter_6_std', 'Dif_max_avg_rotation_std'],\n",
       "      dtype='object')"
      ]
     },
     "execution_count": 21,
     "metadata": {},
     "output_type": "execute_result"
    }
   ],
   "source": [
    "x_train.columns"
   ]
  }
 ],
 "metadata": {
  "kernelspec": {
   "display_name": "Python 3",
   "language": "python",
   "name": "python3"
  },
  "language_info": {
   "codemirror_mode": {
    "name": "ipython",
    "version": 3
   },
   "file_extension": ".py",
   "mimetype": "text/x-python",
   "name": "python",
   "nbconvert_exporter": "python",
   "pygments_lexer": "ipython3",
   "version": "3.5.1"
  }
 },
 "nbformat": 4,
 "nbformat_minor": 0
}
